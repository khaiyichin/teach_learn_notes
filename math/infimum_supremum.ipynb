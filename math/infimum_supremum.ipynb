{
 "cells": [
  {
   "cell_type": "markdown",
   "metadata": {},
   "source": [
    "# Definitions of infimum and supremum\n",
    "Taken from [Wikipedia](https://en.wikipedia.org/wiki/Infimum_and_supremum), with image from https://mathstrek.blog/2012/11/09/basic-analysis-sequence-convergence-1/.\n",
    "\n",
    "## Infimum\n",
    "The infimum of a subset $S$ (of a partially ordered set $P$) is the greatest element in $P$ that is less than or equal to all elements of $S$, if such an element exists.\n",
    "\n",
    "Let $y$ be a lower bound of a subset $S$ of a partially ordered set ($P,\\leq$) such that\n",
    "\\begin{equation*}\n",
    "    y \\leq x \\qquad \\forall s \\in S, \\ S \\subseteq P\n",
    "\\end{equation*}\n",
    "then $a$ is the infimum of $S$ if $y \\leq a$ ($a$ is greater than or equal to any other lower bound).\n",
    "\n",
    "The term **greatest lower bound** is also commonly used to describe the infimum.\n",
    "\n",
    "## Supremum\n",
    "The supremum of a subset $S$ (of a partially ordered set $P$) is the least element in $P$ that is greater than or equal to all elements of $S$, if such an element exists.\n",
    "\n",
    "Let $z$ be an upper bound of a subset $S$ of a partially ordered set ($P,\\leq$) such that\n",
    "\\begin{equation*}\n",
    "    z \\geq x \\qquad \\forall s \\in S, \\ S \\subseteq P\n",
    "\\end{equation*}\n",
    "then $b$ is the infimum of $S$ if $z \\leq b$ ($b$ is less than or equal to any other upper bound).\n",
    "\n",
    "The term **least upper bound** is also commonly used to describe the supremum.\n",
    "\n",
    "## Remarks\n",
    "The concepts of infimum and supremum are similar to minimum and maximum, but are more useful in analysis because they better characterize special sets which may have no minimum or maximum. For instance, the set of positive real numbers $\\mathbb{R}^{+}$ (not including $0$) does not have a minimum, because any given element of $\\mathbb{R}^{+}$ could simply be divided in half resulting in a smaller number that is still in $\\mathbb {R} ^{+}$. There is, however, exactly one infimum of the positive real numbers: $0$, which is smaller than all the positive real numbers and greater than any other real number which could be used as a lower bound.\n",
    "\n",
    "A graphical example of comparing infimum/supremum and minimum/maximum (credit: https://mathstrek.blog/2012/11/09/basic-analysis-sequence-convergence-1/):\n",
    "\n",
    "![infimum and supremum vs minimum and maximum](https://simomaths.files.wordpress.com/2012/10/minmaxetc.png)"
   ]
  }
 ],
 "metadata": {
  "language_info": {
   "name": "python"
  },
  "orig_nbformat": 4
 },
 "nbformat": 4,
 "nbformat_minor": 2
}
